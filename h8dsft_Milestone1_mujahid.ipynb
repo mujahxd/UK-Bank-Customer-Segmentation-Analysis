{
  "cells": [
    {
      "cell_type": "markdown",
      "metadata": {
        "id": "9KeY1DoXwLxk"
      },
      "source": [
        "Link Tableau: https://public.tableau.com/views/h8dsft_Milestone1_mujahid/StorySegmentation?:language=en-US&publish=yes&:display_count=n&:origin=viz_share_link"
      ]
    },
    {
      "cell_type": "markdown",
      "metadata": {
        "id": "i1mGhq3uXB5p"
      },
      "source": [
        "# Perkenalan\n",
        "\n"
      ]
    },
    {
      "cell_type": "markdown",
      "metadata": {
        "id": "o75eoz8nvykb"
      },
      "source": [
        "Nama: Mujahid  \n",
        "Batch: RMT-022  \n",
        "Objective: Project ini adalah untuk menganalisis segmentasi UK Bank Customers dengan menjawab beberapa pertanyaan analisis dan beberapa visualisasi untuk menguatkan analisis yang diharapkan bisa membantu UK Bank untuk mengambil langkah bisnis kedepannya."
      ]
    },
    {
      "cell_type": "markdown",
      "metadata": {
        "id": "hrGybiHPXGKw"
      },
      "source": [
        "# Identifikasi Masalah"
      ]
    },
    {
      "cell_type": "markdown",
      "metadata": {
        "id": "86f0SUsf-51S"
      },
      "source": [
        "## Problem Statement"
      ]
    },
    {
      "cell_type": "markdown",
      "metadata": {
        "id": "HwPhB3S-9BBt"
      },
      "source": [
        "**Problem Statement**: Analisis Segmentasi Customer bank di UK Berdasarkan Data UK-Customers-Bank."
      ]
    },
    {
      "cell_type": "markdown",
      "metadata": {
        "id": "hsTLz6ex--wU"
      },
      "source": [
        "## SMART"
      ]
    },
    {
      "cell_type": "markdown",
      "metadata": {
        "id": "W6VDv3TX-ks6"
      },
      "source": [
        "**Specific**:\n",
        "Menganalisis segmentasi pelanggan dalam dataset UK Customers Bank untuk memahami karakteristik dan perilaku pelanggan yang berbeda.\n",
        "\n",
        "**Measurable**:\n",
        "Mengidentifikasi kategori pelanggan berdasarkan atribut seperti usia, gender, wilayah, pekerjaan, dan saldo. Mengukur distribusi pelanggan di masing-masing kategori.\n",
        "\n",
        "**Achievable**:\n",
        "Mengumpulkan dan menyusun data dari kolom 'Gender', 'Age', 'Region', 'Job Classification', dan 'Balance' untuk analisis.\n",
        "\n",
        "**Relevant**:\n",
        "Analisis segmentasi pelanggan akan memberikan wawasan berharga kepada UK Customers Bank untuk mengembangkan strategi pemasaran yang lebih efektif dan layanan yang lebih disesuaikan.\n",
        "\n",
        "**Time-bound**:\n",
        " Tujuan ini akan dicapai dalam 1 pekan, dengan laporan hasil analisis akan disajikan pada akhir periode tersebut"
      ]
    },
    {
      "cell_type": "markdown",
      "metadata": {
        "id": "dpJcej0g_Lv0"
      },
      "source": [
        "## Penjabaran Masalah"
      ]
    },
    {
      "cell_type": "markdown",
      "metadata": {
        "id": "-aCZq3bd-dyc"
      },
      "source": [
        "1. Bagaimana distribusi data dari kolom Balance?\n",
        "2. Bagaimana distribusi data dari kolom Age?\n",
        "3. Berapa banyak customer yang berasal dari setiap region?\n",
        "4. Apakah jumlah customer wanita lebih banyak daripada pria, atau sebaliknya?\n",
        "5. Apakah ada perbedaan yang signifikan dalam rata-rata Balance pada setiap Job Classification?\n",
        "6. Apakah ada korelasi antara usia customer dan rata-rata Balance?\n",
        "7. Dimana Region yang memiliki total balance paling besar?"
      ]
    },
    {
      "cell_type": "markdown",
      "metadata": {
        "id": "sGyWN58kXO5I"
      },
      "source": [
        "# Data Loading"
      ]
    },
    {
      "cell_type": "markdown",
      "metadata": {
        "id": "a44i-hTNyOsU"
      },
      "source": [
        "Link Dataset: https://www.kaggle.com/datasets/ukveteran/uk-bank-customers"
      ]
    },
    {
      "cell_type": "markdown",
      "metadata": {
        "id": "-eABOLwOB6M0"
      },
      "source": [
        "## Import Library yang diperlukan"
      ]
    },
    {
      "cell_type": "code",
      "execution_count": null,
      "metadata": {
        "id": "aqzHCvo6B8pi"
      },
      "outputs": [],
      "source": [
        "import pandas as pd\n",
        "import matplotlib.pyplot as plt\n",
        "import seaborn as sns\n",
        "import numpy as np\n",
        "\n",
        "from scipy.stats import skew, f_oneway"
      ]
    },
    {
      "cell_type": "markdown",
      "metadata": {
        "id": "SrGyIMqSf7EA"
      },
      "source": [
        "## Baca Data"
      ]
    },
    {
      "cell_type": "code",
      "execution_count": null,
      "metadata": {
        "id": "bxoQ1x_bCfh8"
      },
      "outputs": [],
      "source": [
        "# load data dengan melewati ketika bad lines\n",
        "df = pd.read_csv(\"uk-bank-customers.csv\", on_bad_lines='skip')"
      ]
    },
    {
      "cell_type": "markdown",
      "metadata": {
        "id": "bSYB3OYHXSFp"
      },
      "source": [
        "# Data Cleaning"
      ]
    },
    {
      "cell_type": "markdown",
      "metadata": {
        "id": "wjhJqnd3gLKR"
      },
      "source": [
        "## Cek dimensi data"
      ]
    },
    {
      "cell_type": "code",
      "execution_count": null,
      "metadata": {
        "colab": {
          "base_uri": "https://localhost:8080/"
        },
        "id": "EQe-6-pOhZ-Q",
        "outputId": "a128ddd9-5453-414a-fe5a-91b4a543428b"
      },
      "outputs": [
        {
          "data": {
            "text/plain": [
              "(4014, 9)"
            ]
          },
          "execution_count": 5,
          "metadata": {},
          "output_type": "execute_result"
        }
      ],
      "source": [
        "df.shape"
      ]
    },
    {
      "cell_type": "markdown",
      "metadata": {
        "id": "dUG1XDdkhlLi"
      },
      "source": [
        "Dataset kami memiliki 9 kolom dan 4014 baris (record)."
      ]
    },
    {
      "cell_type": "markdown",
      "metadata": {
        "id": "LeeZH9YPi9pk"
      },
      "source": [
        "## Cek ringkasan data"
      ]
    },
    {
      "cell_type": "code",
      "execution_count": null,
      "metadata": {
        "colab": {
          "base_uri": "https://localhost:8080/"
        },
        "id": "narCQ6E0jJYA",
        "outputId": "28818d65-0e5d-4594-afc4-641fa900e4df"
      },
      "outputs": [
        {
          "name": "stdout",
          "output_type": "stream",
          "text": [
            "<class 'pandas.core.frame.DataFrame'>\n",
            "RangeIndex: 4014 entries, 0 to 4013\n",
            "Data columns (total 9 columns):\n",
            " #   Column              Non-Null Count  Dtype  \n",
            "---  ------              --------------  -----  \n",
            " 0   Customer ID         4014 non-null   int64  \n",
            " 1   Name                4014 non-null   object \n",
            " 2   Surname             4014 non-null   object \n",
            " 3   Gender              4014 non-null   object \n",
            " 4   Age                 4014 non-null   int64  \n",
            " 5   Region              4014 non-null   object \n",
            " 6   Job Classification  4014 non-null   object \n",
            " 7   Date Joined         4014 non-null   object \n",
            " 8   Balance             4014 non-null   float64\n",
            "dtypes: float64(1), int64(2), object(6)\n",
            "memory usage: 282.4+ KB\n"
          ]
        }
      ],
      "source": [
        "df.info()"
      ]
    },
    {
      "cell_type": "markdown",
      "metadata": {
        "id": "fDdECkbgjNih"
      },
      "source": [
        "Nah dari info di atas, kita bisa ketahui bahwa dataset UK Customers Bank memiliki kolom Customer ID, Name, Surname, Gender, Age, Region, Job Classification, Date Joined, Balance. Dan tidak memiliki _missing values_.\n"
      ]
    },
    {
      "cell_type": "markdown",
      "metadata": {
        "id": "PAY8TDj5lUmI"
      },
      "source": [
        "## Cek gambaran isi dari data"
      ]
    },
    {
      "cell_type": "code",
      "execution_count": null,
      "metadata": {
        "colab": {
          "base_uri": "https://localhost:8080/",
          "height": 206
        },
        "id": "2MnKE7UHlYOI",
        "outputId": "37892963-48bb-4522-b32a-a68a98f88254"
      },
      "outputs": [
        {
          "data": {
            "text/html": [
              "\n",
              "\n",
              "  <div id=\"df-ed0f9510-f819-4b38-8c5d-88168aeaae84\">\n",
              "    <div class=\"colab-df-container\">\n",
              "      <div>\n",
              "<style scoped>\n",
              "    .dataframe tbody tr th:only-of-type {\n",
              "        vertical-align: middle;\n",
              "    }\n",
              "\n",
              "    .dataframe tbody tr th {\n",
              "        vertical-align: top;\n",
              "    }\n",
              "\n",
              "    .dataframe thead th {\n",
              "        text-align: right;\n",
              "    }\n",
              "</style>\n",
              "<table border=\"1\" class=\"dataframe\">\n",
              "  <thead>\n",
              "    <tr style=\"text-align: right;\">\n",
              "      <th></th>\n",
              "      <th>Customer ID</th>\n",
              "      <th>Name</th>\n",
              "      <th>Surname</th>\n",
              "      <th>Gender</th>\n",
              "      <th>Age</th>\n",
              "      <th>Region</th>\n",
              "      <th>Job Classification</th>\n",
              "      <th>Date Joined</th>\n",
              "      <th>Balance</th>\n",
              "    </tr>\n",
              "  </thead>\n",
              "  <tbody>\n",
              "    <tr>\n",
              "      <th>0</th>\n",
              "      <td>100000001</td>\n",
              "      <td>Simon</td>\n",
              "      <td>Walsh</td>\n",
              "      <td>Male</td>\n",
              "      <td>21</td>\n",
              "      <td>England</td>\n",
              "      <td>White Collar</td>\n",
              "      <td>05.Jan.15</td>\n",
              "      <td>113810.15</td>\n",
              "    </tr>\n",
              "    <tr>\n",
              "      <th>1</th>\n",
              "      <td>400000002</td>\n",
              "      <td>Jasmine</td>\n",
              "      <td>Miller</td>\n",
              "      <td>Female</td>\n",
              "      <td>34</td>\n",
              "      <td>Northern Ireland</td>\n",
              "      <td>Blue Collar</td>\n",
              "      <td>06.Jan.15</td>\n",
              "      <td>36919.73</td>\n",
              "    </tr>\n",
              "    <tr>\n",
              "      <th>2</th>\n",
              "      <td>100000003</td>\n",
              "      <td>Liam</td>\n",
              "      <td>Brown</td>\n",
              "      <td>Male</td>\n",
              "      <td>46</td>\n",
              "      <td>England</td>\n",
              "      <td>White Collar</td>\n",
              "      <td>07.Jan.15</td>\n",
              "      <td>101536.83</td>\n",
              "    </tr>\n",
              "    <tr>\n",
              "      <th>3</th>\n",
              "      <td>300000004</td>\n",
              "      <td>Trevor</td>\n",
              "      <td>Parr</td>\n",
              "      <td>Male</td>\n",
              "      <td>32</td>\n",
              "      <td>Wales</td>\n",
              "      <td>White Collar</td>\n",
              "      <td>08.Jan.15</td>\n",
              "      <td>1421.52</td>\n",
              "    </tr>\n",
              "    <tr>\n",
              "      <th>4</th>\n",
              "      <td>100000005</td>\n",
              "      <td>Deirdre</td>\n",
              "      <td>Pullman</td>\n",
              "      <td>Female</td>\n",
              "      <td>38</td>\n",
              "      <td>England</td>\n",
              "      <td>Blue Collar</td>\n",
              "      <td>09.Jan.15</td>\n",
              "      <td>35639.79</td>\n",
              "    </tr>\n",
              "  </tbody>\n",
              "</table>\n",
              "</div>\n",
              "      <button class=\"colab-df-convert\" onclick=\"convertToInteractive('df-ed0f9510-f819-4b38-8c5d-88168aeaae84')\"\n",
              "              title=\"Convert this dataframe to an interactive table.\"\n",
              "              style=\"display:none;\">\n",
              "\n",
              "  <svg xmlns=\"http://www.w3.org/2000/svg\" height=\"24px\"viewBox=\"0 0 24 24\"\n",
              "       width=\"24px\">\n",
              "    <path d=\"M0 0h24v24H0V0z\" fill=\"none\"/>\n",
              "    <path d=\"M18.56 5.44l.94 2.06.94-2.06 2.06-.94-2.06-.94-.94-2.06-.94 2.06-2.06.94zm-11 1L8.5 8.5l.94-2.06 2.06-.94-2.06-.94L8.5 2.5l-.94 2.06-2.06.94zm10 10l.94 2.06.94-2.06 2.06-.94-2.06-.94-.94-2.06-.94 2.06-2.06.94z\"/><path d=\"M17.41 7.96l-1.37-1.37c-.4-.4-.92-.59-1.43-.59-.52 0-1.04.2-1.43.59L10.3 9.45l-7.72 7.72c-.78.78-.78 2.05 0 2.83L4 21.41c.39.39.9.59 1.41.59.51 0 1.02-.2 1.41-.59l7.78-7.78 2.81-2.81c.8-.78.8-2.07 0-2.86zM5.41 20L4 18.59l7.72-7.72 1.47 1.35L5.41 20z\"/>\n",
              "  </svg>\n",
              "      </button>\n",
              "\n",
              "\n",
              "\n",
              "    <div id=\"df-a8ad7190-7e38-4de2-9aa3-60f86a69b889\">\n",
              "      <button class=\"colab-df-quickchart\" onclick=\"quickchart('df-a8ad7190-7e38-4de2-9aa3-60f86a69b889')\"\n",
              "              title=\"Suggest charts.\"\n",
              "              style=\"display:none;\">\n",
              "\n",
              "<svg xmlns=\"http://www.w3.org/2000/svg\" height=\"24px\"viewBox=\"0 0 24 24\"\n",
              "     width=\"24px\">\n",
              "    <g>\n",
              "        <path d=\"M19 3H5c-1.1 0-2 .9-2 2v14c0 1.1.9 2 2 2h14c1.1 0 2-.9 2-2V5c0-1.1-.9-2-2-2zM9 17H7v-7h2v7zm4 0h-2V7h2v10zm4 0h-2v-4h2v4z\"/>\n",
              "    </g>\n",
              "</svg>\n",
              "      </button>\n",
              "    </div>\n",
              "\n",
              "<style>\n",
              "  .colab-df-quickchart {\n",
              "    background-color: #E8F0FE;\n",
              "    border: none;\n",
              "    border-radius: 50%;\n",
              "    cursor: pointer;\n",
              "    display: none;\n",
              "    fill: #1967D2;\n",
              "    height: 32px;\n",
              "    padding: 0 0 0 0;\n",
              "    width: 32px;\n",
              "  }\n",
              "\n",
              "  .colab-df-quickchart:hover {\n",
              "    background-color: #E2EBFA;\n",
              "    box-shadow: 0px 1px 2px rgba(60, 64, 67, 0.3), 0px 1px 3px 1px rgba(60, 64, 67, 0.15);\n",
              "    fill: #174EA6;\n",
              "  }\n",
              "\n",
              "  [theme=dark] .colab-df-quickchart {\n",
              "    background-color: #3B4455;\n",
              "    fill: #D2E3FC;\n",
              "  }\n",
              "\n",
              "  [theme=dark] .colab-df-quickchart:hover {\n",
              "    background-color: #434B5C;\n",
              "    box-shadow: 0px 1px 3px 1px rgba(0, 0, 0, 0.15);\n",
              "    filter: drop-shadow(0px 1px 2px rgba(0, 0, 0, 0.3));\n",
              "    fill: #FFFFFF;\n",
              "  }\n",
              "</style>\n",
              "\n",
              "    <script>\n",
              "      async function quickchart(key) {\n",
              "        const containerElement = document.querySelector('#' + key);\n",
              "        const charts = await google.colab.kernel.invokeFunction(\n",
              "            'suggestCharts', [key], {});\n",
              "      }\n",
              "    </script>\n",
              "\n",
              "\n",
              "      <script>\n",
              "\n",
              "function displayQuickchartButton(domScope) {\n",
              "  let quickchartButtonEl =\n",
              "    domScope.querySelector('#df-a8ad7190-7e38-4de2-9aa3-60f86a69b889 button.colab-df-quickchart');\n",
              "  quickchartButtonEl.style.display =\n",
              "    google.colab.kernel.accessAllowed ? 'block' : 'none';\n",
              "}\n",
              "\n",
              "        displayQuickchartButton(document);\n",
              "      </script>\n",
              "      <style>\n",
              "    .colab-df-container {\n",
              "      display:flex;\n",
              "      flex-wrap:wrap;\n",
              "      gap: 12px;\n",
              "    }\n",
              "\n",
              "    .colab-df-convert {\n",
              "      background-color: #E8F0FE;\n",
              "      border: none;\n",
              "      border-radius: 50%;\n",
              "      cursor: pointer;\n",
              "      display: none;\n",
              "      fill: #1967D2;\n",
              "      height: 32px;\n",
              "      padding: 0 0 0 0;\n",
              "      width: 32px;\n",
              "    }\n",
              "\n",
              "    .colab-df-convert:hover {\n",
              "      background-color: #E2EBFA;\n",
              "      box-shadow: 0px 1px 2px rgba(60, 64, 67, 0.3), 0px 1px 3px 1px rgba(60, 64, 67, 0.15);\n",
              "      fill: #174EA6;\n",
              "    }\n",
              "\n",
              "    [theme=dark] .colab-df-convert {\n",
              "      background-color: #3B4455;\n",
              "      fill: #D2E3FC;\n",
              "    }\n",
              "\n",
              "    [theme=dark] .colab-df-convert:hover {\n",
              "      background-color: #434B5C;\n",
              "      box-shadow: 0px 1px 3px 1px rgba(0, 0, 0, 0.15);\n",
              "      filter: drop-shadow(0px 1px 2px rgba(0, 0, 0, 0.3));\n",
              "      fill: #FFFFFF;\n",
              "    }\n",
              "  </style>\n",
              "\n",
              "      <script>\n",
              "        const buttonEl =\n",
              "          document.querySelector('#df-ed0f9510-f819-4b38-8c5d-88168aeaae84 button.colab-df-convert');\n",
              "        buttonEl.style.display =\n",
              "          google.colab.kernel.accessAllowed ? 'block' : 'none';\n",
              "\n",
              "        async function convertToInteractive(key) {\n",
              "          const element = document.querySelector('#df-ed0f9510-f819-4b38-8c5d-88168aeaae84');\n",
              "          const dataTable =\n",
              "            await google.colab.kernel.invokeFunction('convertToInteractive',\n",
              "                                                     [key], {});\n",
              "          if (!dataTable) return;\n",
              "\n",
              "          const docLinkHtml = 'Like what you see? Visit the ' +\n",
              "            '<a target=\"_blank\" href=https://colab.research.google.com/notebooks/data_table.ipynb>data table notebook</a>'\n",
              "            + ' to learn more about interactive tables.';\n",
              "          element.innerHTML = '';\n",
              "          dataTable['output_type'] = 'display_data';\n",
              "          await google.colab.output.renderOutput(dataTable, element);\n",
              "          const docLink = document.createElement('div');\n",
              "          docLink.innerHTML = docLinkHtml;\n",
              "          element.appendChild(docLink);\n",
              "        }\n",
              "      </script>\n",
              "    </div>\n",
              "  </div>\n"
            ],
            "text/plain": [
              "   Customer ID     Name  Surname  Gender  Age            Region  \\\n",
              "0    100000001    Simon    Walsh    Male   21           England   \n",
              "1    400000002  Jasmine   Miller  Female   34  Northern Ireland   \n",
              "2    100000003     Liam    Brown    Male   46           England   \n",
              "3    300000004   Trevor     Parr    Male   32             Wales   \n",
              "4    100000005  Deirdre  Pullman  Female   38           England   \n",
              "\n",
              "  Job Classification Date Joined    Balance  \n",
              "0       White Collar   05.Jan.15  113810.15  \n",
              "1        Blue Collar   06.Jan.15   36919.73  \n",
              "2       White Collar   07.Jan.15  101536.83  \n",
              "3       White Collar   08.Jan.15    1421.52  \n",
              "4        Blue Collar   09.Jan.15   35639.79  "
            ]
          },
          "execution_count": 31,
          "metadata": {},
          "output_type": "execute_result"
        }
      ],
      "source": [
        "# menampilkan 5 record teratas\n",
        "df.head()"
      ]
    },
    {
      "cell_type": "markdown",
      "metadata": {
        "id": "tJcFkweildVh"
      },
      "source": [
        "## Cek data yang duplikat"
      ]
    },
    {
      "cell_type": "code",
      "execution_count": null,
      "metadata": {
        "colab": {
          "base_uri": "https://localhost:8080/"
        },
        "id": "gwjzPUU9liJw",
        "outputId": "64794bb6-3fe4-4c89-8623-6605fea03d80"
      },
      "outputs": [
        {
          "data": {
            "text/plain": [
              "0"
            ]
          },
          "execution_count": 32,
          "metadata": {},
          "output_type": "execute_result"
        }
      ],
      "source": [
        "# cek total data dupikat\n",
        "df.duplicated().sum()"
      ]
    },
    {
      "cell_type": "markdown",
      "metadata": {
        "id": "GmFVYJzLlkyt"
      },
      "source": [
        "Menarik, data tidak ada yg duplikat. Mari cek _missing values_,"
      ]
    },
    {
      "cell_type": "markdown",
      "metadata": {
        "id": "Gv9_chmHlveh"
      },
      "source": [
        "## Cek _missing values_"
      ]
    },
    {
      "cell_type": "code",
      "execution_count": null,
      "metadata": {
        "colab": {
          "base_uri": "https://localhost:8080/"
        },
        "id": "jV8LepXvlzYQ",
        "outputId": "e5106b34-3136-44d2-d202-1973512334d4"
      },
      "outputs": [
        {
          "data": {
            "text/plain": [
              "Customer ID           0\n",
              "Name                  0\n",
              "Surname               0\n",
              "Gender                0\n",
              "Age                   0\n",
              "Region                0\n",
              "Job Classification    0\n",
              "Date Joined           0\n",
              "Balance               0\n",
              "dtype: int64"
            ]
          },
          "execution_count": 9,
          "metadata": {},
          "output_type": "execute_result"
        }
      ],
      "source": [
        "df.isna().sum()"
      ]
    },
    {
      "cell_type": "markdown",
      "metadata": {
        "id": "1q0YzCnvl2hQ"
      },
      "source": [
        "Wow, data tidak ada yang _missing_. Oke selanjutnya mari lakukan drop column yang tidak terpakai untuk dianalisis,"
      ]
    },
    {
      "cell_type": "markdown",
      "metadata": {
        "id": "TbkLdN1_mFn5"
      },
      "source": [
        "## Drop kolom yang tidak terpakai"
      ]
    },
    {
      "cell_type": "code",
      "execution_count": null,
      "metadata": {
        "id": "A2Nn9vl0mNko"
      },
      "outputs": [],
      "source": [
        "# inisiasi variabel untuk kolom yang akan didrop\n",
        "columns_to_drop = [\n",
        "    'Customer ID',\n",
        "    'Name', 'Surname',\n",
        "    'Date Joined'\n",
        "]\n",
        "\n",
        "df.drop(columns=columns_to_drop, inplace=True)"
      ]
    },
    {
      "cell_type": "markdown",
      "metadata": {
        "id": "uonDbn5imSMp"
      },
      "source": [
        "Siip, kolom yang tidak terpakai untuk dianalisis sudah dihilangkan, selanjutnya siap masuk ke tahap analisis dan perhitungan!"
      ]
    },
    {
      "cell_type": "markdown",
      "metadata": {
        "id": "S2EY5feHXT_4"
      },
      "source": [
        "# Analisis dan perhitungan"
      ]
    },
    {
      "cell_type": "markdown",
      "metadata": {
        "id": "4LKVldPiRUB9"
      },
      "source": [
        "## Menghitung ukuran pemusatan data dari kolom balance"
      ]
    },
    {
      "cell_type": "code",
      "execution_count": null,
      "metadata": {
        "colab": {
          "base_uri": "https://localhost:8080/"
        },
        "id": "TpDzu0S6msDL",
        "outputId": "d73bcb31-4117-4654-8954-000edacb1fd8"
      },
      "outputs": [
        {
          "data": {
            "text/plain": [
              "mean      39766.45\n",
              "median    33567.33\n",
              "mode       9867.56\n",
              "skew          0.98\n",
              "dtype: float64"
            ]
          },
          "execution_count": 11,
          "metadata": {},
          "output_type": "execute_result"
        }
      ],
      "source": [
        "balance_stats = pd.Series({\n",
        "    \"mean\": df['Balance'].mean(),\n",
        "    \"median\": df['Balance'].median(),\n",
        "    \"mode\": df['Balance'].mode().values[0],\n",
        "    \"skew\": skew(df['Balance'])\n",
        "}).round(2)\n",
        "\n",
        "balance_stats"
      ]
    },
    {
      "cell_type": "markdown",
      "metadata": {
        "id": "kCQl3_nGmuFh"
      },
      "source": [
        "Hmmm menarik, dari hasil yang didapatkan, kolom balance memiliki indikasi data miring ke kanan (__positive skewness_) karena \"mean > median > mode\" dan nilai skew yang lebih besar dari nol dan positif. Mari visualisasikan untuk lebih lanjutnya,"
      ]
    },
    {
      "cell_type": "code",
      "execution_count": null,
      "metadata": {
        "colab": {
          "base_uri": "https://localhost:8080/",
          "height": 407
        },
        "id": "GxgHHtQOnJix",
        "outputId": "23306a24-d3a8-41f5-f29a-97c295e45138"
      },
      "outputs": [
        {
          "data": {
            "image/png": "[encoded data removed]",
            "text/plain": [
              "<Figure size 1000x400 with 2 Axes>"
            ]
          },
          "metadata": {},
          "output_type": "display_data"
        }
      ],
      "source": [
        "# membuat histplot untuk visualisasikan data yang diperlukan\n",
        "plt.figure(figsize=(10, 4))\n",
        "\n",
        "plt.subplot(1, 2, 1)\n",
        "sns.histplot(data=df, x='Balance', bins=10, edgecolor='black')\n",
        "plt.title('Histogram of Balance')\n",
        "plt.xlabel('Balance')\n",
        "plt.ylabel('Frequency')\n",
        "\n",
        "plt.subplot(1, 2, 2)\n",
        "sns.boxplot(data=df, y='Balance')\n",
        "plt.title('Boxplot of Balance')\n",
        "plt.ylabel('Balance')\n",
        "\n",
        "plt.tight_layout()\n",
        "plt.show()"
      ]
    },
    {
      "cell_type": "markdown",
      "metadata": {
        "id": "JaOd6andnSs1"
      },
      "source": [
        "Yaps, ternyata memang benar terjadi kemiringan ke kanan, dan kalau dilihat dari boxplot, ada indikasi outlier / nilai extreme, Mari cek berapa persen nilai outliernya,"
      ]
    },
    {
      "cell_type": "markdown",
      "metadata": {
        "id": "TvPfxjyknnMN"
      },
      "source": [
        "## Cek persentase outlier dari kolom Balance"
      ]
    },
    {
      "cell_type": "code",
      "execution_count": null,
      "metadata": {
        "colab": {
          "base_uri": "https://localhost:8080/"
        },
        "id": "xPAllWCwngPQ",
        "outputId": "9fa2fd16-c66f-4071-a36b-c8ffdaae9582"
      },
      "outputs": [
        {
          "name": "stdout",
          "output_type": "stream",
          "text": [
            "Upper Boundary: 119661.77\n",
            "Lower Boundary: -46012.48\n",
            "Percentage of outliers in the balance column: 1.67%\n"
          ]
        }
      ],
      "source": [
        "# melakukan perhitungan tukey's Rule\n",
        "q1 = df['Balance'].quantile(0.25)\n",
        "q3 = df['Balance'].quantile(0.75)\n",
        "iqr = q3-q1\n",
        "\n",
        "# mencari batas atas\n",
        "up_bound = q3 + 1.5*iqr\n",
        "# mencari batas bawah\n",
        "low_bound = q1 - 1.5*iqr\n",
        "\n",
        "# inisiasi variabel untuk menyimpan data outlier\n",
        "outlier = df['Balance'][(df['Balance']<low_bound) | (df['Balance']>up_bound)]\n",
        "\n",
        "print(f'Upper Boundary: {up_bound:.2f}' )\n",
        "print(f'Lower Boundary: {low_bound:.2f}')\n",
        "print(f\"Percentage of outliers in the balance column: {len(outlier)*100/len(df['Balance']):.2f}%\")"
      ]
    },
    {
      "cell_type": "markdown",
      "metadata": {
        "id": "ykNhkctAnw_h"
      },
      "source": [
        "Tukey's Rule adalah salah satu metode untuk pengecekan outlier, dan dari hasil di atas, ternyata kolom Balance memiliki sekitar 1.67% nilai outlier.\n",
        "\n",
        "Hmm menarik, selanjutnya cek ukuran pemusatan data untuk kolom Age."
      ]
    },
    {
      "cell_type": "markdown",
      "metadata": {
        "id": "bPMr7ytPoL0B"
      },
      "source": [
        "## Menghitung ukuran pemusatan data pada kolom Age"
      ]
    },
    {
      "cell_type": "code",
      "execution_count": null,
      "metadata": {
        "colab": {
          "base_uri": "https://localhost:8080/"
        },
        "id": "ju1YuIo9oUW0",
        "outputId": "310c2d4c-36e3-4780-f155-1bfac029bf51"
      },
      "outputs": [
        {
          "data": {
            "text/plain": [
              "mean      38.61\n",
              "median    37.00\n",
              "mode      34.00\n",
              "skew       0.34\n",
              "dtype: float64"
            ]
          },
          "execution_count": 15,
          "metadata": {},
          "output_type": "execute_result"
        }
      ],
      "source": [
        "age_stats = pd.Series({\n",
        "    \"mean\": df['Age'].mean(),\n",
        "    \"median\": df['Age'].median(),\n",
        "    \"mode\": df['Age'].mode().values[0],\n",
        "    \"skew\": skew(df['Age'])\n",
        "}).round(2)\n",
        "\n",
        "age_stats"
      ]
    },
    {
      "cell_type": "markdown",
      "metadata": {
        "id": "1j7xBRcmoWSJ"
      },
      "source": [
        "Menarik, dari hasil tersebut kolom Age ada indikasi distribusinya miring ke kanan, mari visualisasikan,"
      ]
    },
    {
      "cell_type": "code",
      "execution_count": null,
      "metadata": {
        "colab": {
          "base_uri": "https://localhost:8080/",
          "height": 407
        },
        "id": "i9BcbvERon45",
        "outputId": "7568f301-98a8-4e77-824b-cee5c889987d"
      },
      "outputs": [
        {
          "data": {
            "image/png": "[encoded data removed]",
            "text/plain": [
              "<Figure size 1000x400 with 2 Axes>"
            ]
          },
          "metadata": {},
          "output_type": "display_data"
        }
      ],
      "source": [
        "# membuat histplot untuk menampilkan/memvisualisasikan data\n",
        "plt.figure(figsize=(10, 4))\n",
        "\n",
        "plt.subplot(1, 2, 1)\n",
        "sns.histplot(data=df, x='Age', bins=10, edgecolor='black')\n",
        "plt.title('Histogram of Age')\n",
        "plt.xlabel('Age')\n",
        "plt.ylabel('Frequency')\n",
        "\n",
        "plt.subplot(1, 2, 2)\n",
        "sns.boxplot(data=df, y='Age')\n",
        "plt.title('Boxplot of Age')\n",
        "plt.ylabel('Age')\n",
        "\n",
        "plt.tight_layout()\n",
        "plt.show()"
      ]
    },
    {
      "cell_type": "markdown",
      "metadata": {
        "id": "_m_oBdRTorTb"
      },
      "source": [
        "Yapps, ternyata dari hasil visualiasasi kolom Age memang cenderung miring ke kanan tapi tidak terlalu ekstrim, dan kalau dilihat dari boxplot, sepertinya kolom Age tidak ada nilai outlier. Mari kita cek,"
      ]
    },
    {
      "cell_type": "markdown",
      "metadata": {
        "id": "sYBt73c5pKnB"
      },
      "source": [
        "## Cek persentase outlier dari kolom Age"
      ]
    },
    {
      "cell_type": "code",
      "execution_count": null,
      "metadata": {
        "colab": {
          "base_uri": "https://localhost:8080/"
        },
        "id": "-LWNKC_do98Z",
        "outputId": "f2ade4bc-1b02-4c68-cdaa-35aedcdbfd6d"
      },
      "outputs": [
        {
          "name": "stdout",
          "output_type": "stream",
          "text": [
            "Upper Boundary: 66.00\n",
            "Lower Boundary: 10.00\n",
            "Percentage of outliers in the Age column: 0.00%\n"
          ]
        }
      ],
      "source": [
        "# Melakukan perhitungan tukey's Rule untuk mencari data outlier\n",
        "q1 = df['Age'].quantile(0.25)\n",
        "q3 = df['Age'].quantile(0.75)\n",
        "iqr = q3-q1\n",
        "\n",
        "up_bound = q3 + 1.5*iqr\n",
        "low_bound = q1 - 1.5*iqr\n",
        "\n",
        "# inisiasi variabel untuk menyimpan data outlier\n",
        "outlier = df['Age'][(df['Age']<low_bound) | (df['Age']>up_bound)]\n",
        "\n",
        "print(f'Upper Boundary: {up_bound:.2f}' )\n",
        "print(f'Lower Boundary: {low_bound:.2f}')\n",
        "print(f\"Percentage of outliers in the Age column: {len(outlier)*100/len(df['Age']):.2f}%\")"
      ]
    },
    {
      "cell_type": "markdown",
      "metadata": {
        "id": "bVW_uaJAo_5h"
      },
      "source": [
        "Lagi dengan Tukey's Rule, kolom Age memiliki 0 persen nilai outlier.  \n",
        "\n",
        "Selanjutnya mari cari tahu jumlah customer pada setiap Region,"
      ]
    },
    {
      "cell_type": "markdown",
      "metadata": {
        "id": "z0719iJyRgg9"
      },
      "source": [
        "## Berapa banyak customer yang berasal dari setiap region?\n"
      ]
    },
    {
      "cell_type": "code",
      "execution_count": null,
      "metadata": {
        "colab": {
          "base_uri": "https://localhost:8080/",
          "height": 487
        },
        "id": "Hwx16HzLptlj",
        "outputId": "a7441d7c-b3bf-4a40-9d3b-9265e9df7a57"
      },
      "outputs": [
        {
          "data": {
            "image/png": "[encoded data removed]",
            "text/plain": [
              "<Figure size 800x400 with 1 Axes>"
            ]
          },
          "metadata": {},
          "output_type": "display_data"
        }
      ],
      "source": [
        "# menghitung banyak record tiap region\n",
        "region_counts = df['Region'].value_counts()\n",
        "\n",
        "plt.figure(figsize=(8, 4))\n",
        "sns.barplot(x=region_counts.index, y=region_counts.values)\n",
        "plt.title('Number of Customers from Each Region')\n",
        "plt.xlabel('Region')\n",
        "\n",
        "plt.ylabel('Number of Customers')\n",
        "plt.xticks(rotation=45)\n",
        "plt.show()"
      ]
    },
    {
      "cell_type": "markdown",
      "metadata": {
        "id": "g32JiZR3qCYD"
      },
      "source": [
        "Wow keren, dengan visualisasi di atas, kita bisa ketahui banyak customer tiap region, dan ternyata __England__ adalah region dengan jumlah customer terbanyak!  \n",
        "\n",
        "Selanjutnya mari kita cek distribusi gender dari UK Customer Bank,"
      ]
    },
    {
      "cell_type": "markdown",
      "metadata": {
        "id": "1HpSiwcvqe7p"
      },
      "source": [
        "## Apakah jumlah customer wanita lebih banyak daripada pria, atau sebaliknya?"
      ]
    },
    {
      "cell_type": "code",
      "execution_count": null,
      "metadata": {
        "colab": {
          "base_uri": "https://localhost:8080/",
          "height": 367
        },
        "id": "BMcTCJPyqiji",
        "outputId": "41090ae8-f0fa-4f90-b3e0-575e1a7fd845"
      },
      "outputs": [
        {
          "data": {
            "image/png": "[encoded data removed]",
            "text/plain": [
              "<Figure size 400x400 with 1 Axes>"
            ]
          },
          "metadata": {},
          "output_type": "display_data"
        }
      ],
      "source": [
        "gender_counts = df['Gender'].value_counts()\n",
        "\n",
        "plt.figure(figsize=(4, 4))\n",
        "plt.pie(gender_counts, labels=gender_counts.index, autopct='%1.0f%%', startangle=270, colors=['blue', 'pink'])\n",
        "plt.title('Distribution of Female and Male Customers')\n",
        "plt.show()"
      ]
    },
    {
      "cell_type": "markdown",
      "metadata": {
        "id": "rAESu5PFqngp"
      },
      "source": [
        "Menarik, ternyata persentase customer Male lebih besar dibandingkan customer Female.  \n",
        "\n",
        "Kami bertanya-tanya apakah Job Classification mempengaruhi rata-rata Balance pada data, mari cari tahu dengan melakukan __Hipotesis Testing__!"
      ]
    },
    {
      "cell_type": "markdown",
      "metadata": {
        "id": "iMT4z_tERoJs"
      },
      "source": [
        "## Hipotesis Testing: Apakah ada perbedaan yang signifikan dalam rata-rata Balance pada setiap Job Classification?\n"
      ]
    },
    {
      "cell_type": "markdown",
      "metadata": {
        "id": "dVo6LdgArbra"
      },
      "source": [
        "Sebelum melakukan hipotesis, mari cek terlebih dahulu dengan pendekatan visualisasi setiap Job,"
      ]
    },
    {
      "cell_type": "code",
      "execution_count": null,
      "metadata": {
        "colab": {
          "base_uri": "https://localhost:8080/",
          "height": 410
        },
        "id": "aiRvJ8FTrkyR",
        "outputId": "a15edf14-916f-4c4d-c8d8-193938b41fe2"
      },
      "outputs": [
        {
          "data": {
            "image/png": "[encoded data removed]",
            "text/plain": [
              "<Figure size 600x400 with 1 Axes>"
            ]
          },
          "metadata": {},
          "output_type": "display_data"
        }
      ],
      "source": [
        "plt.figure(figsize=(6, 4))\n",
        "sns.boxplot(data=df, x='Job Classification', y='Balance')\n",
        "plt.title('Comparison of Balance by Job Classification')\n",
        "plt.xlabel('Job Classification')\n",
        "plt.ylabel('Balance')\n",
        "plt.show()"
      ]
    },
    {
      "cell_type": "markdown",
      "metadata": {
        "id": "01teYVe0roXJ"
      },
      "source": [
        "Kalau dilihat dari hasil visualisasi sepertinya tidak ada perbedaan yang signifikan, mari cek dengan melakukan hipotesis testing metode ANOVA,"
      ]
    },
    {
      "cell_type": "markdown",
      "metadata": {
        "id": "9tJ4YbPzr9JC"
      },
      "source": [
        "`Hipotesis Nol (H0)`: Tidak ada perbedaan yang signifikan dalam saldo rekening rata-rata antara kelompok pekerjaan.\n",
        "\n",
        "`Hipotesis Alternatif (H1)`: Ada perbedaan yang signifikan dalam saldo rekening rata-rata antara setidaknya satu pasangan kelompok pekerjaan."
      ]
    },
    {
      "cell_type": "code",
      "execution_count": null,
      "metadata": {
        "colab": {
          "base_uri": "https://localhost:8080/"
        },
        "id": "UPHcU_8wsApU",
        "outputId": "42bf1794-11a7-435e-fa8d-9b31ac09d9a4"
      },
      "outputs": [
        {
          "name": "stdout",
          "output_type": "stream",
          "text": [
            "Average Balance of White Collar Group: 39931.40\n",
            "Average Balance of Blue Collar Group: 39403.29\n",
            "Average Balance of Other Group: 39824.34\n"
          ]
        }
      ],
      "source": [
        "# inisasi variabel untuk menyimpan rata-rata balance pada setiap job\n",
        "white_collar = df['Balance'][df['Job Classification'] == 'White Collar']\n",
        "blue_collar = df['Balance'][df['Job Classification'] == 'Blue Collar']\n",
        "other = df['Balance'][df['Job Classification'] == 'Other']\n",
        "\n",
        "\n",
        "print(f'Average Balance of White Collar Group: {white_collar.mean():.2f}')\n",
        "print(f'Average Balance of Blue Collar Group: {blue_collar.mean():.2f}')\n",
        "print(f'Average Balance of Other Group: {other.mean():.2f}')"
      ]
    },
    {
      "cell_type": "markdown",
      "metadata": {
        "id": "rCkgV-QTsC4Y"
      },
      "source": [
        "Hasil di atas adalah melihat rata-rata Balance dari tiap job (White collar, Blue collar, other)."
      ]
    },
    {
      "cell_type": "code",
      "execution_count": null,
      "metadata": {
        "colab": {
          "base_uri": "https://localhost:8080/"
        },
        "id": "PsRT6xIdsOv0",
        "outputId": "a1e974f2-4658-4617-c503-a01c75576482"
      },
      "outputs": [
        {
          "data": {
            "text/plain": [
              "0.896497899504341"
            ]
          },
          "execution_count": 23,
          "metadata": {},
          "output_type": "execute_result"
        }
      ],
      "source": [
        "# melakukan perhitungan ANOVA\n",
        "result = f_oneway(white_collar, blue_collar, other)\n",
        "result.pvalue"
      ]
    },
    {
      "cell_type": "markdown",
      "metadata": {
        "id": "VEyhbo5rsSSL"
      },
      "source": [
        "Dari pengujian ANOVA di atas, didapatkan p-value sebesar 0.896, karena nilai tersebut lebih besar dari 0.05 (nilai signifikan) maka tidak ada alasan untuk menolak H0, yang artinya H0:Tidak ada perbedaan yang signifikan dalam saldo rekening rata-rata antara kelompok pekerjaan, disetujui."
      ]
    },
    {
      "cell_type": "markdown",
      "metadata": {
        "id": "S7avIj2TszVr"
      },
      "source": [
        "## Apakah ada korelasi antara usia customer dan rata-rata Balance?\n"
      ]
    },
    {
      "cell_type": "markdown",
      "metadata": {
        "id": "4P5QUo0rtA75"
      },
      "source": [
        "Setelah mencari tahu apakah ada perbedaan balance pada setiap jenis pekerjaan, kami bertanya-tanya apakah usia berkolerasi dengan rata-rata Balance, mari caru tahu!"
      ]
    },
    {
      "cell_type": "code",
      "execution_count": null,
      "metadata": {
        "colab": {
          "base_uri": "https://localhost:8080/",
          "height": 427
        },
        "id": "uwCJncbNtMYE",
        "outputId": "8b60c2a5-0128-4735-876e-5aaf8c0325c6"
      },
      "outputs": [
        {
          "data": {
            "text/plain": [
              "Text(0, 0.5, 'Average')"
            ]
          },
          "execution_count": 25,
          "metadata": {},
          "output_type": "execute_result"
        },
        {
          "data": {
            "image/png": "[encoded data removed]",
            "text/plain": [
              "<Figure size 800x400 with 1 Axes>"
            ]
          },
          "metadata": {},
          "output_type": "display_data"
        }
      ],
      "source": [
        "average_balance_by_age = df.groupby('Age')['Balance'].mean().reset_index()\n",
        "\n",
        "plt.figure(figsize=(8, 4))\n",
        "sns.regplot(x='Age', y='Balance', data=average_balance_by_age)\n",
        "plt.title('Relationship Between Age and Average Balance')\n",
        "plt.xlabel('Age')\n",
        "plt.ylabel('Average')"
      ]
    },
    {
      "cell_type": "markdown",
      "metadata": {
        "id": "uD_xIjaftiTr"
      },
      "source": [
        "Menarik, dari hasil visualisasi di atas, terindikasi Age dan rata-rata Balance memiliki korelasi positif namun sangat lemah/kecil."
      ]
    },
    {
      "cell_type": "markdown",
      "metadata": {
        "id": "8Yuwh4-Ot6PZ"
      },
      "source": [
        "Oke, terakhir mari cari tahu total Balance pada setiap Region!"
      ]
    },
    {
      "cell_type": "markdown",
      "metadata": {
        "id": "cyUseocpuAkq"
      },
      "source": [
        "## Dimana Region yang memiliki total balance paling besar?"
      ]
    },
    {
      "cell_type": "code",
      "execution_count": null,
      "metadata": {
        "colab": {
          "base_uri": "https://localhost:8080/",
          "height": 175
        },
        "id": "pCmcaDDauKBJ",
        "outputId": "2865a12d-ec07-4961-d983-386bd0667beb"
      },
      "outputs": [
        {
          "data": {
            "text/html": [
              "\n",
              "\n",
              "  <div id=\"df-bb3e6d1f-de55-4654-8a8f-b390039660b5\">\n",
              "    <div class=\"colab-df-container\">\n",
              "      <div>\n",
              "<style scoped>\n",
              "    .dataframe tbody tr th:only-of-type {\n",
              "        vertical-align: middle;\n",
              "    }\n",
              "\n",
              "    .dataframe tbody tr th {\n",
              "        vertical-align: top;\n",
              "    }\n",
              "\n",
              "    .dataframe thead th {\n",
              "        text-align: right;\n",
              "    }\n",
              "</style>\n",
              "<table border=\"1\" class=\"dataframe\">\n",
              "  <thead>\n",
              "    <tr style=\"text-align: right;\">\n",
              "      <th></th>\n",
              "      <th>Region</th>\n",
              "      <th>Balance</th>\n",
              "    </tr>\n",
              "  </thead>\n",
              "  <tbody>\n",
              "    <tr>\n",
              "      <th>0</th>\n",
              "      <td>England</td>\n",
              "      <td>84833397.00</td>\n",
              "    </tr>\n",
              "    <tr>\n",
              "      <th>1</th>\n",
              "      <td>Northern Ireland</td>\n",
              "      <td>8335566.39</td>\n",
              "    </tr>\n",
              "    <tr>\n",
              "      <th>2</th>\n",
              "      <td>Scotland</td>\n",
              "      <td>44410730.72</td>\n",
              "    </tr>\n",
              "    <tr>\n",
              "      <th>3</th>\n",
              "      <td>Wales</td>\n",
              "      <td>22042829.26</td>\n",
              "    </tr>\n",
              "  </tbody>\n",
              "</table>\n",
              "</div>\n",
              "      <button class=\"colab-df-convert\" onclick=\"convertToInteractive('df-bb3e6d1f-de55-4654-8a8f-b390039660b5')\"\n",
              "              title=\"Convert this dataframe to an interactive table.\"\n",
              "              style=\"display:none;\">\n",
              "\n",
              "  <svg xmlns=\"http://www.w3.org/2000/svg\" height=\"24px\"viewBox=\"0 0 24 24\"\n",
              "       width=\"24px\">\n",
              "    <path d=\"M0 0h24v24H0V0z\" fill=\"none\"/>\n",
              "    <path d=\"M18.56 5.44l.94 2.06.94-2.06 2.06-.94-2.06-.94-.94-2.06-.94 2.06-2.06.94zm-11 1L8.5 8.5l.94-2.06 2.06-.94-2.06-.94L8.5 2.5l-.94 2.06-2.06.94zm10 10l.94 2.06.94-2.06 2.06-.94-2.06-.94-.94-2.06-.94 2.06-2.06.94z\"/><path d=\"M17.41 7.96l-1.37-1.37c-.4-.4-.92-.59-1.43-.59-.52 0-1.04.2-1.43.59L10.3 9.45l-7.72 7.72c-.78.78-.78 2.05 0 2.83L4 21.41c.39.39.9.59 1.41.59.51 0 1.02-.2 1.41-.59l7.78-7.78 2.81-2.81c.8-.78.8-2.07 0-2.86zM5.41 20L4 18.59l7.72-7.72 1.47 1.35L5.41 20z\"/>\n",
              "  </svg>\n",
              "      </button>\n",
              "\n",
              "\n",
              "\n",
              "    <div id=\"df-47d01773-9ec1-44f0-b3e4-64f994939851\">\n",
              "      <button class=\"colab-df-quickchart\" onclick=\"quickchart('df-47d01773-9ec1-44f0-b3e4-64f994939851')\"\n",
              "              title=\"Suggest charts.\"\n",
              "              style=\"display:none;\">\n",
              "\n",
              "<svg xmlns=\"http://www.w3.org/2000/svg\" height=\"24px\"viewBox=\"0 0 24 24\"\n",
              "     width=\"24px\">\n",
              "    <g>\n",
              "        <path d=\"M19 3H5c-1.1 0-2 .9-2 2v14c0 1.1.9 2 2 2h14c1.1 0 2-.9 2-2V5c0-1.1-.9-2-2-2zM9 17H7v-7h2v7zm4 0h-2V7h2v10zm4 0h-2v-4h2v4z\"/>\n",
              "    </g>\n",
              "</svg>\n",
              "      </button>\n",
              "    </div>\n",
              "\n",
              "<style>\n",
              "  .colab-df-quickchart {\n",
              "    background-color: #E8F0FE;\n",
              "    border: none;\n",
              "    border-radius: 50%;\n",
              "    cursor: pointer;\n",
              "    display: none;\n",
              "    fill: #1967D2;\n",
              "    height: 32px;\n",
              "    padding: 0 0 0 0;\n",
              "    width: 32px;\n",
              "  }\n",
              "\n",
              "  .colab-df-quickchart:hover {\n",
              "    background-color: #E2EBFA;\n",
              "    box-shadow: 0px 1px 2px rgba(60, 64, 67, 0.3), 0px 1px 3px 1px rgba(60, 64, 67, 0.15);\n",
              "    fill: #174EA6;\n",
              "  }\n",
              "\n",
              "  [theme=dark] .colab-df-quickchart {\n",
              "    background-color: #3B4455;\n",
              "    fill: #D2E3FC;\n",
              "  }\n",
              "\n",
              "  [theme=dark] .colab-df-quickchart:hover {\n",
              "    background-color: #434B5C;\n",
              "    box-shadow: 0px 1px 3px 1px rgba(0, 0, 0, 0.15);\n",
              "    filter: drop-shadow(0px 1px 2px rgba(0, 0, 0, 0.3));\n",
              "    fill: #FFFFFF;\n",
              "  }\n",
              "</style>\n",
              "\n",
              "    <script>\n",
              "      async function quickchart(key) {\n",
              "        const containerElement = document.querySelector('#' + key);\n",
              "        const charts = await google.colab.kernel.invokeFunction(\n",
              "            'suggestCharts', [key], {});\n",
              "      }\n",
              "    </script>\n",
              "\n",
              "\n",
              "      <script>\n",
              "\n",
              "function displayQuickchartButton(domScope) {\n",
              "  let quickchartButtonEl =\n",
              "    domScope.querySelector('#df-47d01773-9ec1-44f0-b3e4-64f994939851 button.colab-df-quickchart');\n",
              "  quickchartButtonEl.style.display =\n",
              "    google.colab.kernel.accessAllowed ? 'block' : 'none';\n",
              "}\n",
              "\n",
              "        displayQuickchartButton(document);\n",
              "      </script>\n",
              "      <style>\n",
              "    .colab-df-container {\n",
              "      display:flex;\n",
              "      flex-wrap:wrap;\n",
              "      gap: 12px;\n",
              "    }\n",
              "\n",
              "    .colab-df-convert {\n",
              "      background-color: #E8F0FE;\n",
              "      border: none;\n",
              "      border-radius: 50%;\n",
              "      cursor: pointer;\n",
              "      display: none;\n",
              "      fill: #1967D2;\n",
              "      height: 32px;\n",
              "      padding: 0 0 0 0;\n",
              "      width: 32px;\n",
              "    }\n",
              "\n",
              "    .colab-df-convert:hover {\n",
              "      background-color: #E2EBFA;\n",
              "      box-shadow: 0px 1px 2px rgba(60, 64, 67, 0.3), 0px 1px 3px 1px rgba(60, 64, 67, 0.15);\n",
              "      fill: #174EA6;\n",
              "    }\n",
              "\n",
              "    [theme=dark] .colab-df-convert {\n",
              "      background-color: #3B4455;\n",
              "      fill: #D2E3FC;\n",
              "    }\n",
              "\n",
              "    [theme=dark] .colab-df-convert:hover {\n",
              "      background-color: #434B5C;\n",
              "      box-shadow: 0px 1px 3px 1px rgba(0, 0, 0, 0.15);\n",
              "      filter: drop-shadow(0px 1px 2px rgba(0, 0, 0, 0.3));\n",
              "      fill: #FFFFFF;\n",
              "    }\n",
              "  </style>\n",
              "\n",
              "      <script>\n",
              "        const buttonEl =\n",
              "          document.querySelector('#df-bb3e6d1f-de55-4654-8a8f-b390039660b5 button.colab-df-convert');\n",
              "        buttonEl.style.display =\n",
              "          google.colab.kernel.accessAllowed ? 'block' : 'none';\n",
              "\n",
              "        async function convertToInteractive(key) {\n",
              "          const element = document.querySelector('#df-bb3e6d1f-de55-4654-8a8f-b390039660b5');\n",
              "          const dataTable =\n",
              "            await google.colab.kernel.invokeFunction('convertToInteractive',\n",
              "                                                     [key], {});\n",
              "          if (!dataTable) return;\n",
              "\n",
              "          const docLinkHtml = 'Like what you see? Visit the ' +\n",
              "            '<a target=\"_blank\" href=https://colab.research.google.com/notebooks/data_table.ipynb>data table notebook</a>'\n",
              "            + ' to learn more about interactive tables.';\n",
              "          element.innerHTML = '';\n",
              "          dataTable['output_type'] = 'display_data';\n",
              "          await google.colab.output.renderOutput(dataTable, element);\n",
              "          const docLink = document.createElement('div');\n",
              "          docLink.innerHTML = docLinkHtml;\n",
              "          element.appendChild(docLink);\n",
              "        }\n",
              "      </script>\n",
              "    </div>\n",
              "  </div>\n"
            ],
            "text/plain": [
              "             Region      Balance\n",
              "0           England  84833397.00\n",
              "1  Northern Ireland   8335566.39\n",
              "2          Scotland  44410730.72\n",
              "3             Wales  22042829.26"
            ]
          },
          "execution_count": 26,
          "metadata": {},
          "output_type": "execute_result"
        }
      ],
      "source": [
        "total_balance_by_location = df.groupby('Region')['Balance'].sum().reset_index()\n",
        "total_balance_by_location"
      ]
    },
    {
      "cell_type": "markdown",
      "metadata": {
        "id": "07iTsoz4uLZa"
      },
      "source": [
        "Wow menarik, sebelumnya kita ketahui England adalah region dengan jumlah customer terbanyak, dan sekarang England adalah region dengan total balance terbesar!"
      ]
    },
    {
      "cell_type": "markdown",
      "metadata": {
        "id": "Dt3Af_ArXWz3"
      },
      "source": [
        "# Pengambilan Kesimpulan"
      ]
    },
    {
      "cell_type": "markdown",
      "metadata": {
        "id": "ClDx1RsubXSC"
      },
      "source": [
        "\n",
        "Melalui serangkaian analisis yang dilakukan melalui pertanyaan-pertanyaan terstruktur, kami telah memperoleh wawasan mendalam mengenai profil pelanggan dalam dataset UK-Customers-Bank. Dari hasil jawaban pertanyaan-pertanyaan tersebut, kami berharap bahwa UK Bank akan dapat mengambil keputusan yang lebih cerdas dan terinformasi dalam merancang strategi pemasaran yang lebih efektif."
      ]
    }
  ],
  "metadata": {
    "colab": {
      "provenance": []
    },
    "kernelspec": {
      "display_name": "Python 3",
      "name": "python3"
    },
    "language_info": {
      "name": "python"
    }
  },
  "nbformat": 4,
  "nbformat_minor": 0
}
